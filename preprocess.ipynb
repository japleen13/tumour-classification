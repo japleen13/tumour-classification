{
  "cells": [
    {
      "cell_type": "code",
      "source": [
        "import keras\n",
        "from keras.models import Sequential\n",
        "from keras.layers import Dense, Dropout, Flatten\n",
        "from keras.layers import Conv2D, MaxPooling2D, Conv3D, BatchNormalization, Activation\n",
        "from keras import backend as K\n",
        "import os\n",
        "from PIL import Image\n",
        "import numpy as np\n",
        "from sklearn.model_selection import train_test_split\n",
        "from sklearn.preprocessing import OneHotEncoder\n",
        "import matplotlib.pyplot as plt\n",
        "from matplotlib.pyplot import imshow\n",
        "import pandas as pd"
      ],
      "outputs": [],
      "execution_count": 4,
      "metadata": {
        "gather": {
          "logged": 1647877817319
        }
      }
    },
    {
      "cell_type": "code",
      "source": [
        "pip install pillow"
      ],
      "outputs": [
        {
          "output_type": "stream",
          "name": "stdout",
          "text": "Requirement already satisfied: pillow in /anaconda/envs/azureml_py36/lib/python3.6/site-packages (8.0.0)\r\n"
        }
      ],
      "execution_count": 1,
      "metadata": {
        "jupyter": {
          "source_hidden": false,
          "outputs_hidden": false
        },
        "nteract": {
          "transient": {
            "deleting": false
          }
        }
      }
    },
    {
      "cell_type": "code",
      "source": [
        "import zipfile\n",
        " \n",
        "zip_file = \"archive.zip\"\n",
        " \n",
        "\n",
        "with zipfile.ZipFile(zip_file) as z:\n",
        "    z.extractall()\n",
        "        "
      ],
      "outputs": [],
      "execution_count": 3,
      "metadata": {
        "jupyter": {
          "source_hidden": false,
          "outputs_hidden": false
        },
        "nteract": {
          "transient": {
            "deleting": false
          }
        },
        "gather": {
          "logged": 1647877771416
        }
      }
    },
    {
      "cell_type": "code",
      "source": [
        "classes = os.listdir(\"./Training\")\n",
        "# to save classes\n",
        "\n",
        "enc = OneHotEncoder()\n",
        "enc.fit([[0], [1], [2], [3]])\n",
        "\n",
        "\n",
        "def names(number):\n",
        "    if number == 0:\n",
        "        return classes[0]\n",
        "    elif number == 1:\n",
        "        return classes[1]\n",
        "    elif number == 2:\n",
        "        return classes[2]\n",
        "    elif number == 3:\n",
        "        return classes[3]"
      ],
      "outputs": [],
      "execution_count": 5,
      "metadata": {
        "jupyter": {
          "source_hidden": false,
          "outputs_hidden": false
        },
        "nteract": {
          "transient": {
            "deleting": false
          }
        },
        "gather": {
          "logged": 1647877864728
        }
      }
    },
    {
      "cell_type": "code",
      "source": [
        "trainData = []\n",
        "trainLabel = []\n",
        "dim = (150, 150)\n",
        "trainPath = \"./Training\"\n",
        "index = 0\n",
        "txt = open(\"classes.txt\", \"w\")  # write mode\n",
        "for dir in os.listdir(trainPath):\n",
        "    filePaths = []\n",
        "    subDir = os.path.join(trainPath, dir)\n",
        "    for file in os.listdir(subDir):\n",
        "        imgFullPath = os.path.join(subDir, file)\n",
        "        filePaths.append(imgFullPath)\n",
        "        img = Image.open(imgFullPath).convert('LA')\n",
        "        x = img.resize(dim)\n",
        "        x = np.array(x)\n",
        "        trainData.append(np.array(x))\n",
        "        trainLabel.append(enc.transform([[index]]).toarray())\n",
        "    print(names(index))\n",
        "    txt.write(str(dir) + \"\\n\")\n",
        "    print(str(dir))\n",
        "    index += 1\n",
        "txt.close()"
      ],
      "outputs": [
        {
          "output_type": "stream",
          "name": "stdout",
          "text": "glioma_tumor\nglioma_tumor\nmeningioma_tumor\nmeningioma_tumor\nno_tumor\nno_tumor\npituitary_tumor\npituitary_tumor\n"
        }
      ],
      "execution_count": 6,
      "metadata": {
        "jupyter": {
          "source_hidden": false,
          "outputs_hidden": false
        },
        "nteract": {
          "transient": {
            "deleting": false
          }
        },
        "gather": {
          "logged": 1647877993037
        }
      }
    },
    {
      "cell_type": "code",
      "source": [
        "trainData = np.array(trainData)\n",
        "trainLabel = np.array(trainLabel).reshape(2870, 4)"
      ],
      "outputs": [],
      "execution_count": 7,
      "metadata": {
        "jupyter": {
          "source_hidden": false,
          "outputs_hidden": false
        },
        "nteract": {
          "transient": {
            "deleting": false
          }
        },
        "gather": {
          "logged": 1647877998480
        }
      }
    },
    {
      "cell_type": "code",
      "source": [
        "np.save(\"trainingData.npy\", trainData)\n",
        "np.save(\"trainingLabel.npy\", trainLabel)\n",
        "print(trainData.shape)\n",
        "print(trainLabel.shape)"
      ],
      "outputs": [
        {
          "output_type": "stream",
          "name": "stdout",
          "text": "(2870, 150, 150, 2)\n(2870, 4)\n"
        }
      ],
      "execution_count": 8,
      "metadata": {
        "jupyter": {
          "source_hidden": false,
          "outputs_hidden": false
        },
        "nteract": {
          "transient": {
            "deleting": false
          }
        },
        "gather": {
          "logged": 1647878002425
        }
      }
    },
    {
      "cell_type": "code",
      "source": [
        "testData = []\n",
        "testLabel = []\n",
        "dim = (150, 150)\n",
        "testPath = \"./Testing\"\n",
        "index = 0\n",
        "for dir in os.listdir(testPath):\n",
        "    filePaths = []\n",
        "    subDir = os.path.join(testPath, dir)\n",
        "    for file in os.listdir(subDir):\n",
        "        imgFullPath = os.path.join(subDir, file)\n",
        "        filePaths.append(imgFullPath)\n",
        "        img = Image.open(imgFullPath).convert('LA')\n",
        "        x = img.resize(dim)\n",
        "        x = np.array(x)\n",
        "        testData.append(np.array(x))\n",
        "        testLabel.append(enc.transform([[index]]).toarray())\n",
        "    print(names(index))\n",
        "    print(str(dir))\n",
        "    index += 1"
      ],
      "outputs": [
        {
          "output_type": "stream",
          "name": "stdout",
          "text": "glioma_tumor\nglioma_tumor\nmeningioma_tumor\nmeningioma_tumor\nno_tumor\nno_tumor\npituitary_tumor\npituitary_tumor\n"
        }
      ],
      "execution_count": 9,
      "metadata": {
        "jupyter": {
          "source_hidden": false,
          "outputs_hidden": false
        },
        "nteract": {
          "transient": {
            "deleting": false
          }
        },
        "gather": {
          "logged": 1647878018733
        }
      }
    },
    {
      "cell_type": "code",
      "source": [
        "testData = np.array(testData)\n",
        "testLabel = np.array(testLabel).reshape(394, 4)\n",
        "print(testData.shape)\n",
        "print(testLabel.shape)"
      ],
      "outputs": [
        {
          "output_type": "stream",
          "name": "stdout",
          "text": "(394, 150, 150, 2)\n(394, 4)\n"
        }
      ],
      "execution_count": 10,
      "metadata": {
        "jupyter": {
          "source_hidden": false,
          "outputs_hidden": false
        },
        "nteract": {
          "transient": {
            "deleting": false
          }
        },
        "gather": {
          "logged": 1647878023530
        }
      }
    },
    {
      "cell_type": "code",
      "source": [
        "np.save(\"testData.npy\", trainData)\n",
        "np.save(\"testLabel.npy\", trainLabel)"
      ],
      "outputs": [],
      "execution_count": 11,
      "metadata": {
        "jupyter": {
          "source_hidden": false,
          "outputs_hidden": false
        },
        "nteract": {
          "transient": {
            "deleting": false
          }
        },
        "gather": {
          "logged": 1647878027503
        }
      }
    }
  ],
  "metadata": {
    "kernelspec": {
      "name": "azureml_py38_pt_tf",
      "language": "python",
      "display_name": "Python 3.8 - Pytorch and Tensorflow"
    },
    "language_info": {
      "name": "python",
      "version": "3.8.1",
      "mimetype": "text/x-python",
      "codemirror_mode": {
        "name": "ipython",
        "version": 3
      },
      "pygments_lexer": "ipython3",
      "nbconvert_exporter": "python",
      "file_extension": ".py"
    },
    "kernel_info": {
      "name": "azureml_py38_pt_tf"
    },
    "nteract": {
      "version": "nteract-front-end@1.0.0"
    }
  },
  "nbformat": 4,
  "nbformat_minor": 2
}